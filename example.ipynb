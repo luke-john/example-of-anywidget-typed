{
 "cells": [
  {
   "cell_type": "code",
   "execution_count": 1,
   "metadata": {},
   "outputs": [
    {
     "data": {
      "application/vnd.jupyter.widget-view+json": {
       "model_id": "ea2f73a9-2d9e-4808-805d-5c0fe1dd2606",
       "version_major": 2,
       "version_minor": 1
      }
     },
     "execution_count": 1,
     "metadata": {},
     "output_type": "execute_result"
    }
   ],
   "source": [
    "import { anywidgetTyped } from \"./anywidgetTyped.ts\"\n",
    "await anywidgetTyped(\n",
    "  {\n",
    "    // Unfortunately `typeof import` doesn't work with generics\n",
    "    // if it did, we could have imports typed like `{ [key in keyof ImportPaths]: typeof import(ImportPaths[key]) };`\n",
    "    // \n",
    "    // This feels like a decent trade off to have it passed as a string and the user can cast it to the correct type.\n",
    "    // if the user uses it without casting, they will get a type error, and can consult the type for imports to \n",
    "    // get unblocked.\n",
    "    //\n",
    "    // It also has the benifit of being able to use any import, not just ones that are valid types (in this example\n",
    "    // we use `d3` which does not have valid types, so we cast it to the definition from `@types/d3`)\n",
    "    imports: {\n",
    "      \"d3\": \"https://esm.sh/d3@7\" as unknown as typeof import(\"npm:@types/d3\"),\n",
    "    },\n",
    "    state: { data: [4, 8, 15, 16, 23, 42] },\n",
    "  },\n",
    "  ({d3}) => ({    \n",
    "    render: ({model, el}) => {\n",
    "      const width = 500;\n",
    "      const svg = d3.select(el)\n",
    "        .append(\"svg\")\n",
    "        .attr(\"width\", width);\n",
    "\n",
    "      const x = d3.scaleLinear()\n",
    "        .range([0, width]);\n",
    "\n",
    "      const updateChart = (data: number[]) => {\n",
    "        // Update scale domain based on new data\n",
    "        x.domain([0, d3.max(data)!]);\n",
    "\n",
    "        const bars = svg.selectAll(\"rect\")\n",
    "          .data(data);\n",
    "\n",
    "        // Update existing bars\n",
    "        bars\n",
    "          .attr(\"width\", x)\n",
    "          .attr(\"y\", (d, i) => i * 25)\n",
    "          .attr(\"height\", 20);\n",
    "\n",
    "        // Add new bars\n",
    "        bars.enter().append(\"rect\")\n",
    "          .attr(\"x\", 0)\n",
    "          .attr(\"y\", (d, i) => i * 25)\n",
    "          .attr(\"width\", x)\n",
    "          .attr(\"height\", 20)\n",
    "          .attr(\"fill\", \"#69b3a2\");\n",
    "\n",
    "        // Remove extra bars\n",
    "        bars.exit().remove();\n",
    "      };\n",
    "\n",
    "      // Initial render\n",
    "\n",
    "      updateChart(model.get(\"data\"));\n",
    "\n",
    "      // model.on(\"change:data\", () => {\n",
    "      //   updateChart(model.get(\"data\"));\n",
    "      // });\n",
    "    }\n",
    "  })\n",
    ")"
   ]
  },
  {
   "cell_type": "code",
   "execution_count": 2,
   "metadata": {},
   "outputs": [
    {
     "data": {
      "application/vnd.jupyter.widget-view+json": {
       "model_id": "869d7db4-c536-4e05-9a28-30eb3f049cb9",
       "version_major": 2,
       "version_minor": 1
      }
     },
     "execution_count": 2,
     "metadata": {},
     "output_type": "execute_result"
    }
   ],
   "source": [
    "// note -- this cell has type issues due to an issue with the deno lsp.\n",
    "// see the following links for details\n",
    "// - https://github.com/denoland/deno/blob/8d24be1a59714761665516e0d78d25059608c29b/cli/lsp/tsc.rs#L3526\n",
    "// - https://discord.com/channels/684898665143206084/1157911866744524860/1158022301393104968\n",
    "\n",
    "import { anywidgetTyped } from \"./anywidgetTyped.ts\"\n",
    "\n",
    "await anywidgetTyped(\n",
    "  {\n",
    "    imports: {\n",
    "      \"ReactDom\":\n",
    "        \"https://esm.sh/react-dom\" as any as typeof import(\"npm:@types/react-dom\"),\n",
    "      // React is needed for when JSX is used.\n",
    "      \"React\":\n",
    "        \"https://esm.sh/react\" as any as typeof import(\"npm:@types/react\"),\n",
    "    },\n",
    "    state: { catNoise: \"meow\" },\n",
    "  },\n",
    "  ({ReactDom}) => ({    \n",
    "    render: ({model, el}) => {\n",
    "\n",
    "      const typedCat = model.get(\"catNoise\")!;\n",
    "\n",
    "      ReactDom.render(\n",
    "        <span>{typedCat}</span>,\n",
    "        el\n",
    "      );\n",
    "    }\n",
    "  })\n",
    ")"
   ]
  }
 ],
 "metadata": {
  "kernelspec": {
   "display_name": "Deno",
   "language": "typescript",
   "name": "deno"
  },
  "language_info": {
   "file_extension": ".ts",
   "mimetype": "text/x.typescript",
   "name": "typescript",
   "nb_converter": "script",
   "pygments_lexer": "typescript",
   "version": "5.2.2"
  }
 },
 "nbformat": 4,
 "nbformat_minor": 2
}
